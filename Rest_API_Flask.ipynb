{
  "nbformat": 4,
  "nbformat_minor": 0,
  "metadata": {
    "colab": {
      "provenance": []
    },
    "kernelspec": {
      "name": "python3",
      "display_name": "Python 3"
    },
    "language_info": {
      "name": "python"
    }
  },
  "cells": [
    {
      "cell_type": "markdown",
      "source": [
        "**Question**\n",
        "Problem: Book Management API\n",
        "Objective:\n",
        "Create a simple RESTful API using Flask that allows users to manage a collection of books. The API should support basic CRUD (Create, Read, Update, Delete) operations.\n",
        "\n",
        "Requirements:\n",
        "\n",
        "Endpoints:\n",
        "\n",
        "GET /books: Retrieve a list of all books.\n",
        "GET /books/<int:id>: Retrieve details of a specific book by its ID.\n",
        "POST /books: Add a new book to the collection.\n",
        "PUT /books/<int:id>: Update the details of an existing book."
      ],
      "metadata": {
        "id": "2pdU8527k4yz"
      }
    },
    {
      "cell_type": "code",
      "source": [
        "## Import Libraries\n",
        "from flask import Flask\n",
        "from flask import request, jsonify"
      ],
      "metadata": {
        "id": "v27jVictlEcN"
      },
      "execution_count": null,
      "outputs": []
    },
    {
      "cell_type": "code",
      "source": [
        "## Flask setup ; create a Flask app instance\n",
        "app = Flask(__name__)\n"
      ],
      "metadata": {
        "id": "kZay8ZnhlER2"
      },
      "execution_count": null,
      "outputs": []
    },
    {
      "cell_type": "code",
      "source": [
        "\n",
        "# In memory Database to store books as we dont have a database - else have to config -SQL  and get connected to DB\n",
        "books = [\n",
        "    {\"id\": 1, \"title\": \"Book1\", \"author\": \"Author1\", \"year\": 1990},\n",
        "    {\"id\": 2, \"title\": \"Book2\", \"author\": \"Author2\", \"year\": 1991}\n",
        "]"
      ],
      "metadata": {
        "id": "ijHmNlBUlRlg"
      },
      "execution_count": null,
      "outputs": []
    },
    {
      "cell_type": "code",
      "source": [
        "# Helper function to find a book by ID\n",
        "# find a book by its ID in list of books\n",
        "def find_book(id):\n",
        "    return next((book for book in books if book['id'] == id), None)\n"
      ],
      "metadata": {
        "id": "72E_et-xmUej"
      },
      "execution_count": null,
      "outputs": []
    },
    {
      "cell_type": "code",
      "source": [
        "\n",
        "@app.route('/')\n",
        "def home():\n",
        "    return \"Welcome to the Book Management API\"\n"
      ],
      "metadata": {
        "id": "zgMHI3QJs4pI"
      },
      "execution_count": null,
      "outputs": []
    },
    {
      "cell_type": "code",
      "source": [
        "#Endpoints:\n",
        "\n",
        "#GET /books: Retrieve a list of all books.\n",
        "\n",
        "\n",
        "##endpoint\n",
        "#returns all books\n",
        "@app.route('/books', methods=['GET'])\n",
        "def get_books():\n",
        "    return jsonify(books)"
      ],
      "metadata": {
        "collapsed": true,
        "id": "ai9lJY-FmeJ2"
      },
      "execution_count": null,
      "outputs": []
    },
    {
      "cell_type": "code",
      "source": [
        "#Endpoints:\n",
        "#GET /books/<int:id>: Retrieve details of a specific book by its ID.\n",
        "# retrieves a specific book by its ID.. if not found, it returns error 404.\n",
        "\n",
        "@app.route('/books/<int:id>', methods=['GET'])\n",
        "def get_book(id):\n",
        "    book = find_book(id)\n",
        "    if book:\n",
        "        return jsonify(book)\n",
        "    return jsonify({\"error\": \"Book not found\"}), 404"
      ],
      "metadata": {
        "id": "4UktKh3-m_Sc"
      },
      "execution_count": null,
      "outputs": []
    },
    {
      "cell_type": "code",
      "source": [
        "#Endpoints:\n",
        "#POST /books: Add a new book to the collection.\n",
        "# automatically assigns a new ID and returns the created book with a 201 status code.\n",
        "\n",
        "@app.route('/books', methods=['POST'])\n",
        "def add_book():\n",
        "    new_book = request.json\n",
        "    new_book['id'] = max(book['id'] for book in books) + 1\n",
        "    books.append(new_book)\n",
        "    return jsonify(new_book), 201"
      ],
      "metadata": {
        "id": "QChVRaLBnJlD"
      },
      "execution_count": null,
      "outputs": []
    },
    {
      "cell_type": "code",
      "source": [
        "#Endpoints:\n",
        "#PUT /books/<int:id>: Update the details of an existing book.\n",
        "#updates an existing book\n",
        "## found - update its details, returns the updated book\n",
        "## not found - return 404 error.\n",
        "\n",
        "@app.route('/books/<int:id>', methods=['PUT'])\n",
        "def update_book(id):\n",
        "    book = find_book(id)\n",
        "    if book:\n",
        "        book.update(request.json)\n",
        "        return jsonify(book)\n",
        "    return jsonify({\"error\": \"Book not found\"}), 404\n"
      ],
      "metadata": {
        "id": "lGfCXPhTnMbE"
      },
      "execution_count": null,
      "outputs": []
    },
    {
      "cell_type": "code",
      "execution_count": null,
      "metadata": {
        "colab": {
          "base_uri": "https://localhost:8080/"
        },
        "id": "jNBNzX2SkyAl",
        "outputId": "f961ce7a-e9d4-41bd-e4ed-a9b7d45007be"
      },
      "outputs": [
        {
          "output_type": "stream",
          "name": "stdout",
          "text": [
            " * Serving Flask app '__main__'\n",
            " * Debug mode: on\n"
          ]
        },
        {
          "output_type": "stream",
          "name": "stderr",
          "text": [
            "INFO:werkzeug:\u001b[31m\u001b[1mWARNING: This is a development server. Do not use it in a production deployment. Use a production WSGI server instead.\u001b[0m\n",
            " * Running on http://127.0.0.1:5000\n",
            "INFO:werkzeug:\u001b[33mPress CTRL+C to quit\u001b[0m\n",
            "INFO:werkzeug: * Restarting with stat\n"
          ]
        }
      ],
      "source": [
        "## This tells that its running ; in production, debug = False\n",
        "if __name__ == '__main__':\n",
        "    app.run(debug=True)"
      ]
    },
    {
      "cell_type": "code",
      "source": [
        "'''\n",
        "Request data from endpoint;\n",
        "GET method\n",
        "post - post new data\n",
        "put/patch - update existing data\n",
        "delete - delete data\n",
        "\n",
        "CRUD- Create, read, update, delete\n",
        "\n",
        "Request to Server ->REST API\n",
        "\n",
        "ORM - Object  Relational Mapping - Talk to database\n",
        "'''\n",
        "\n",
        "'''"
      ],
      "metadata": {
        "colab": {
          "base_uri": "https://localhost:8080/",
          "height": 110
        },
        "id": "m-1mbGK4oCei",
        "outputId": "fe52676b-b8f4-4a83-bb6e-1c24e7af800d"
      },
      "execution_count": null,
      "outputs": [
        {
          "output_type": "error",
          "ename": "SyntaxError",
          "evalue": "invalid syntax (<ipython-input-21-6539dbc7defc>, line 1)",
          "traceback": [
            "\u001b[0;36m  File \u001b[0;32m\"<ipython-input-21-6539dbc7defc>\"\u001b[0;36m, line \u001b[0;32m1\u001b[0m\n\u001b[0;31m    Questions:\u001b[0m\n\u001b[0m               ^\u001b[0m\n\u001b[0;31mSyntaxError\u001b[0m\u001b[0;31m:\u001b[0m invalid syntax\n"
          ]
        }
      ]
    },
    {
      "cell_type": "code",
      "source": [
        "'''\n",
        "1. What is a REST API? why is it useful?\n",
        "REpresentational State Transfer (REST)\n",
        "REST APIs utilize the uniform resource locator (URL) to make data available using the web\n",
        "an interface that two computer systems use to exchange information securely over the internet\n",
        "\n",
        "2. How does Flask work, and why are we using it for this project?\n",
        "Flask is a web framework - provides you with tools, libraries and technologies that allow you to build a web application\n",
        "\n",
        "\n",
        "3. What is WSGI, template engine, response objects, requests, and web template engines?\n",
        "The way Web 2.0 works is that instead of a web server serving you hand-authored static HTML files (as they did in days of yore),\n",
        "the web server actually creates a page when you ask for it, by running code.\n",
        "The code you write that defines how these pages are generated, and what pages can be requested by clients (people on the internet using web browsers)\n",
        "is called the web service.\n",
        "All web services are doing basically the same thing, and programmers have written various libraries to accomplish these repetitive tasks.\n",
        "These libraries are called web frameworks (they’re frameworks because they go around the code you write) and Flask is one such, for Python.\n",
        "As is standard for Python web frameworks it’s compatible with a standard called WSGI, or “Web Server Gateway Interface”,\n",
        "which is an extension interface between your web framework and a high-performance web server or reverse proxy such as Apache.\n",
        "\n",
        "\n",
        "4. What's the purpose of the @app.route decorator and how does it work?\n",
        "\n",
        "4. Why are we using different HTTP methods (GET, POST, PUT) for different operations? OOPS concept - microservices?\n",
        "\n",
        "5. How does the jsonify function work and why do we need it?\n",
        "\n",
        "6. What's the significance of the status codes like 200, 201, and 404? Different status code ?\n",
        "201 status for creation operations; 201- resource already existed and was merely retrieved; 404- not found\n",
        "\n",
        "\n",
        "7. How is the in-memory database (the 'books' list) different from a real database, and when would we need to switch to a real one?\n",
        "\n",
        "8. What's the purpose of the find_book helper function?\n",
        "\n",
        "9. How does the request.json work? Where does this data come from?\n",
        "\n",
        "10. Why do we need to manually assign an ID when creating a new book?\n",
        "\n",
        "11. In the update_book function, what does book.update(request.json) do exactly?\n",
        "\n",
        "12. What's the difference between app.run() and app.run(debug=True)?\n",
        "\n",
        "13. How can I test this API once it's running?\n",
        "\n",
        "14. What security concerns should I be aware of with this API?\n",
        "\n",
        "15. How would I handle errors or invalid inputs in a more robust way?\n",
        "\n",
        "16. What does RESTful really mean and how does this code adhere to REST principles?\n",
        "\n",
        "17. How would I add more complex features like searching or filtering books?\n",
        "\n",
        "18. What's the next step to make this a production-ready API?\n",
        "\n",
        "19. What does Flask do?\n",
        "\n",
        "20.Flask is called a backend framework, but what components does it consist of?\n",
        "\n",
        "21. what is the functionality of Flask?\n",
        "'''"
      ],
      "metadata": {
        "id": "vdad0z9boJHB"
      },
      "execution_count": null,
      "outputs": []
    }
  ]
}